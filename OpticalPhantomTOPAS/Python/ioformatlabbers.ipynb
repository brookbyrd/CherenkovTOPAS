{
 "cells": [
  {
   "cell_type": "markdown",
   "metadata": {},
   "source": [
    "# Low-level I/O"
   ]
  },
  {
   "cell_type": "code",
   "execution_count": 2,
   "metadata": {},
   "outputs": [
    {
     "name": "stdout",
     "output_type": "stream",
     "text": [
      "--- Read 15 characters: \"apple,5\n",
      "orange,\"\n",
      "--- Read the first line: \"apple,5\n",
      "\"\n",
      "--- Read the second line: \"apple,5\"\n"
     ]
    }
   ],
   "source": [
    "# Matlab: fopen, fread, fwrite, fclose  -->  Python: open, .read, .close\n",
    "#Let's open a file and write some things..\n",
    "f=open('ioformatlabbers_temp.txt','w');\n",
    "# f is now a file object.\n",
    "f.write(\"apple,5\\n\");\n",
    "f.write(\"orange,6\\n\");\n",
    "f.write(\"banana,7\\n\");\n",
    "f.close();\n",
    "\n",
    "\n",
    "#Let's now read the file back...\n",
    "f=open('ioformatlabbers_temp.txt','r');\n",
    "s=f.read(15);\n",
    "print('--- Read 15 characters: \"'+s+'\"');\n",
    "\n",
    "#Let's now read line by line...\n",
    "#First move back to the beginning of the file:\n",
    "f.seek(0,0);\n",
    "s=f.readline(); #matlab's fgetl()\n",
    "print('--- Read the first line: \"'+s+'\"');\n",
    "\n",
    "#Note that f.readline() does not strip the newline character (whereas Matlab's\n",
    "# fgetl() does.)\n",
    "#If you want to strip any \"space\" characters from the end (including newline),\n",
    "# use str.rstrip()\n",
    "f.seek(0,0);\n",
    "s=f.readline();\n",
    "print('--- Read the second line: \"'+s.rstrip()+'\"');\n",
    "\n",
    "f.close();"
   ]
  },
  {
   "cell_type": "markdown",
   "metadata": {},
   "source": [
    "# Reading a file line by line, the easy way"
   ]
  },
  {
   "cell_type": "code",
   "execution_count": 5,
   "metadata": {},
   "outputs": [
    {
     "name": "stdout",
     "output_type": "stream",
     "text": [
      "--- Read a line: \"apple,5\n",
      "\"\n",
      "--- Read a line: \"orange,6\n",
      "\"\n",
      "--- Read a line: \"banana,7\n",
      "\"\n"
     ]
    }
   ],
   "source": [
    "# A python file object is \"iterable\" in a for loop, it acts as if it is a\n",
    "# list of strings (each string being a line from the file.)\n",
    "f=open('ioformatlabbers_temp.txt','r');\n",
    "for aline in f:\n",
    "    print('--- Read a line: \"'+aline+'\"');\n",
    "\n",
    "f.close();"
   ]
  },
  {
   "cell_type": "markdown",
   "metadata": {
    "collapsed": true
   },
   "source": [
    "# Reading the entire file"
   ]
  },
  {
   "cell_type": "code",
   "execution_count": 89,
   "metadata": {
    "collapsed": true
   },
   "outputs": [],
   "source": [
    "# To read the entire file at once, just use .open() without any input arguments."
   ]
  },
  {
   "cell_type": "code",
   "execution_count": 7,
   "metadata": {},
   "outputs": [
    {
     "name": "stdout",
     "output_type": "stream",
     "text": [
      "--- Read the entire file: \"apple,5\n",
      "orange,6\n",
      "banana,7\n",
      "\"\n"
     ]
    }
   ],
   "source": [
    "f=open('ioformatlabbers_temp.txt','r');\n",
    "s=f.read(  ); #call read() but don't give the number of characters to read.\n",
    "print('--- Read the entire file: \"'+s+'\"');\n",
    "\n",
    "f.close();"
   ]
  },
  {
   "cell_type": "code",
   "execution_count": 9,
   "metadata": {},
   "outputs": [
    {
     "name": "stdout",
     "output_type": "stream",
     "text": [
      "--- Read the entire file using myfileread(): \"apple,5\n",
      "orange,6\n",
      "banana,7\n",
      "\"\n",
      "--- Read the first 3 characters using myfileread(): \"app\"\n"
     ]
    }
   ],
   "source": [
    "# If you think having a function that reads an entire file is a useful thing to have,\n",
    "# then define one. (this would be similar to Matlab's fileread())\n",
    "\n",
    "# We can even let user define the number of bytes to read. So, if bytes is given\n",
    "# we'll read that many characters, otherwise we read the entire file.\n",
    "def myfileread(filename,bytes=None):\n",
    "    f=open(filename,'r');\n",
    "    s=f.read(bytes);\n",
    "    f.close();\n",
    "    return s;\n",
    "\n",
    "# Let's now make use of this function.\n",
    "s=myfileread('ioformatlabbers_temp.txt')\n",
    "print('--- Read the entire file using myfileread(): \"'+s+'\"')\n",
    "\n",
    "s=myfileread('ioformatlabbers_temp.txt',3)\n",
    "print('--- Read the first 3 characters using myfileread(): \"'+s+'\"')\n"
   ]
  },
  {
   "cell_type": "markdown",
   "metadata": {},
   "source": [
    "# Downloading a file from the web"
   ]
  },
  {
   "cell_type": "code",
   "execution_count": 10,
   "metadata": {},
   "outputs": [
    {
     "name": "stdout",
     "output_type": "stream",
     "text": [
      "--- Downloaded file contents (first 300bytes): \"<!DOCTYPE html>\n",
      "<html lang=\"en\">\n",
      "\n",
      "<head>\n",
      "    <meta charset=\"UTF-8\">\n",
      "    <title>httpbin.org</title>\n",
      "    <link href=\"https://fonts.googleapis.com/css?family=Open+Sans:400,700|Source+Code+Pro:300,600|Titillium+Web:400,600,700\"\n",
      "        rel=\"stylesheet\">\n",
      "    <link rel=\"stylesheet\" type=\"text/css\" href=\"/\"\n"
     ]
    }
   ],
   "source": [
    "# The url library has changed a bit from python 2 to python 3.\n",
    "# You may use the following function, so your code works regardless of which\n",
    "#  python version it is being run in.\n",
    "\n",
    "import sys\n",
    "\n",
    "def mydownloadfile(url, filename):\n",
    " if (sys.version_info > (3, 0)):\n",
    "    import urllib.request\n",
    "    urllib.request.urlretrieve(url, filename) #similar to urlwrite()\n",
    " else:\n",
    "    import urllib\n",
    "    urllib.urlretrieve(url,filename) #similar to urlwrite()\n",
    "\n",
    "\n",
    "# Let's test it:\n",
    "mydownloadfile('http://httpbin.org/','mydownload_temp.html');\n",
    "s=myfileread('mydownload_temp.html',300)\n",
    "print('--- Downloaded file contents (first 300bytes): \"'+s+'\"')\n"
   ]
  },
  {
   "cell_type": "code",
   "execution_count": 11,
   "metadata": {},
   "outputs": [
    {
     "name": "stdout",
     "output_type": "stream",
     "text": [
      "file \"mydownload_temp.html\" exists.\n"
     ]
    }
   ],
   "source": [
    "# When you are working with file downloads, you'd frequently want to download\n",
    "# a file only if it hasn't been downloaded before. To accomplish that, you can\n",
    "# just check if the file is present from before.\n",
    "import os\n",
    "if os.path.isfile('mydownload_temp.html'): #matlab's exist(filename,'file')\n",
    "    print('file \"mydownload_temp.html\" exists.')\n"
   ]
  },
  {
   "cell_type": "markdown",
   "metadata": {},
   "source": [
    "# Reading csv files\n",
    "\n",
    "Python has its own csv module. But you may find the pandas third-party module easier to use.\n",
    "Once you read a file as a pandas object, you can index/select rows or columns. See http://pandas.pydata.org/pandas-docs/stable/indexing.html"
   ]
  },
  {
   "cell_type": "code",
   "execution_count": 1,
   "metadata": {},
   "outputs": [
    {
     "data": {
      "text/html": [
       "<div>\n",
       "<style scoped>\n",
       "    .dataframe tbody tr th:only-of-type {\n",
       "        vertical-align: middle;\n",
       "    }\n",
       "\n",
       "    .dataframe tbody tr th {\n",
       "        vertical-align: top;\n",
       "    }\n",
       "\n",
       "    .dataframe thead th {\n",
       "        text-align: right;\n",
       "    }\n",
       "</style>\n",
       "<table border=\"1\" class=\"dataframe\">\n",
       "  <thead>\n",
       "    <tr style=\"text-align: right;\">\n",
       "      <th></th>\n",
       "      <th>fruit</th>\n",
       "      <th>count</th>\n",
       "    </tr>\n",
       "  </thead>\n",
       "  <tbody>\n",
       "    <tr>\n",
       "      <th>0</th>\n",
       "      <td>apple</td>\n",
       "      <td>5</td>\n",
       "    </tr>\n",
       "    <tr>\n",
       "      <th>1</th>\n",
       "      <td>orange</td>\n",
       "      <td>6</td>\n",
       "    </tr>\n",
       "    <tr>\n",
       "      <th>2</th>\n",
       "      <td>banana</td>\n",
       "      <td>7</td>\n",
       "    </tr>\n",
       "  </tbody>\n",
       "</table>\n",
       "</div>"
      ],
      "text/plain": [
       "    fruit  count\n",
       "0   apple      5\n",
       "1  orange      6\n",
       "2  banana      7"
      ]
     },
     "execution_count": 1,
     "metadata": {},
     "output_type": "execute_result"
    }
   ],
   "source": [
    "import pandas as pd\n",
    "\n",
    "es = pd.read_csv('ioformatlabbers_temp.txt',names=['fruit','count']);\n",
    "es"
   ]
  },
  {
   "cell_type": "code",
   "execution_count": 95,
   "metadata": {},
   "outputs": [
    {
     "data": {
      "text/plain": [
       "0     apple\n",
       "1    orange\n",
       "2    banana\n",
       "Name: fruit, dtype: object"
      ]
     },
     "execution_count": 95,
     "metadata": {},
     "output_type": "execute_result"
    }
   ],
   "source": [
    "# Use [columname] to extract a specific column\n",
    "es['fruit']"
   ]
  },
  {
   "cell_type": "code",
   "execution_count": 96,
   "metadata": {},
   "outputs": [
    {
     "data": {
      "text/plain": [
       "'apple'"
      ]
     },
     "execution_count": 96,
     "metadata": {},
     "output_type": "execute_result"
    }
   ],
   "source": [
    "# and [columname][rowindex] to extract a single cell\n",
    "es['fruit'][0]"
   ]
  },
  {
   "cell_type": "code",
   "execution_count": 97,
   "metadata": {},
   "outputs": [
    {
     "data": {
      "text/plain": [
       "fruit    apple\n",
       "count        5\n",
       "Name: 0, dtype: object"
      ]
     },
     "execution_count": 97,
     "metadata": {},
     "output_type": "execute_result"
    }
   ],
   "source": [
    "# Use iloc() to extract a specific row \n",
    "es.iloc[0]"
   ]
  },
  {
   "cell_type": "code",
   "execution_count": 98,
   "metadata": {},
   "outputs": [
    {
     "data": {
      "text/html": [
       "<div>\n",
       "<table border=\"1\" class=\"dataframe\">\n",
       "  <thead>\n",
       "    <tr style=\"text-align: right;\">\n",
       "      <th></th>\n",
       "      <th>fruit</th>\n",
       "      <th>count</th>\n",
       "    </tr>\n",
       "  </thead>\n",
       "  <tbody>\n",
       "    <tr>\n",
       "      <th>0</th>\n",
       "      <td>apple</td>\n",
       "      <td>5</td>\n",
       "    </tr>\n",
       "    <tr>\n",
       "      <th>1</th>\n",
       "      <td>orange</td>\n",
       "      <td>6</td>\n",
       "    </tr>\n",
       "  </tbody>\n",
       "</table>\n",
       "</div>"
      ],
      "text/plain": [
       "    fruit  count\n",
       "0   apple      5\n",
       "1  orange      6"
      ]
     },
     "execution_count": 98,
     "metadata": {},
     "output_type": "execute_result"
    }
   ],
   "source": [
    "# Use row-column indexing with iloc to extract specific rows & columns\n",
    "es.iloc[0:2,0:2]"
   ]
  },
  {
   "cell_type": "code",
   "execution_count": 99,
   "metadata": {},
   "outputs": [
    {
     "data": {
      "text/plain": [
       "6"
      ]
     },
     "execution_count": 99,
     "metadata": {},
     "output_type": "execute_result"
    }
   ],
   "source": [
    "es.iloc[1,1]"
   ]
  },
  {
   "cell_type": "markdown",
   "metadata": {},
   "source": [
    "# Reading Excel files\n"
   ]
  },
  {
   "cell_type": "code",
   "execution_count": 102,
   "metadata": {},
   "outputs": [
    {
     "data": {
      "text/html": [
       "<div>\n",
       "<table border=\"1\" class=\"dataframe\">\n",
       "  <thead>\n",
       "    <tr style=\"text-align: right;\">\n",
       "      <th></th>\n",
       "      <th>Group</th>\n",
       "      <th>Age</th>\n",
       "      <th>Gender</th>\n",
       "      <th>Weight</th>\n",
       "      <th>Height</th>\n",
       "      <th>BMI</th>\n",
       "      <th>Pain</th>\n",
       "    </tr>\n",
       "  </thead>\n",
       "  <tbody>\n",
       "    <tr>\n",
       "      <th>0</th>\n",
       "      <td>CRPS</td>\n",
       "      <td>50</td>\n",
       "      <td>M</td>\n",
       "      <td>224</td>\n",
       "      <td>73.533514</td>\n",
       "      <td>31.404267</td>\n",
       "      <td>9.377812</td>\n",
       "    </tr>\n",
       "    <tr>\n",
       "      <th>1</th>\n",
       "      <td>CRPS</td>\n",
       "      <td>59</td>\n",
       "      <td>F</td>\n",
       "      <td>180</td>\n",
       "      <td>62.625479</td>\n",
       "      <td>28.676935</td>\n",
       "      <td>8.647270</td>\n",
       "    </tr>\n",
       "    <tr>\n",
       "      <th>2</th>\n",
       "      <td>CRPS</td>\n",
       "      <td>22</td>\n",
       "      <td>F</td>\n",
       "      <td>167</td>\n",
       "      <td>62.253894</td>\n",
       "      <td>32.966045</td>\n",
       "      <td>8.666216</td>\n",
       "    </tr>\n",
       "    <tr>\n",
       "      <th>3</th>\n",
       "      <td>CRPS</td>\n",
       "      <td>48</td>\n",
       "      <td>F</td>\n",
       "      <td>113</td>\n",
       "      <td>61.476092</td>\n",
       "      <td>19.600357</td>\n",
       "      <td>7.131505</td>\n",
       "    </tr>\n",
       "    <tr>\n",
       "      <th>4</th>\n",
       "      <td>CRPS</td>\n",
       "      <td>53</td>\n",
       "      <td>M</td>\n",
       "      <td>166</td>\n",
       "      <td>70.076665</td>\n",
       "      <td>25.661336</td>\n",
       "      <td>5.791540</td>\n",
       "    </tr>\n",
       "  </tbody>\n",
       "</table>\n",
       "</div>"
      ],
      "text/plain": [
       "  Group  Age Gender  Weight     Height        BMI      Pain\n",
       "0  CRPS   50      M     224  73.533514  31.404267  9.377812\n",
       "1  CRPS   59      F     180  62.625479  28.676935  8.647270\n",
       "2  CRPS   22      F     167  62.253894  32.966045  8.666216\n",
       "3  CRPS   48      F     113  61.476092  19.600357  7.131505\n",
       "4  CRPS   53      M     166  70.076665  25.661336  5.791540"
      ]
     },
     "execution_count": 102,
     "metadata": {},
     "output_type": "execute_result"
    }
   ],
   "source": [
    "#Pandas can read Excel files, too.\n",
    "url='http://sacan.biomed.drexel.edu/ftp/bmeprog/crps_data.xlsx';\n",
    "mydownloadfile(url,'crps_data.xlsx');\n",
    "es = pd.read_excel('crps_data.xlsx');\n",
    "\n",
    "#data too large. let's just show first 5 rows and first 7 columns.\n",
    "es.iloc[0:5,0:7]"
   ]
  },
  {
   "cell_type": "code",
   "execution_count": null,
   "metadata": {
    "collapsed": true
   },
   "outputs": [],
   "source": []
  }
 ],
 "metadata": {
  "kernelspec": {
   "display_name": "Python 3",
   "language": "python",
   "name": "python3"
  },
  "language_info": {
   "codemirror_mode": {
    "name": "ipython",
    "version": 3
   },
   "file_extension": ".py",
   "mimetype": "text/x-python",
   "name": "python",
   "nbconvert_exporter": "python",
   "pygments_lexer": "ipython3",
   "version": "3.11.7"
  }
 },
 "nbformat": 4,
 "nbformat_minor": 1
}
