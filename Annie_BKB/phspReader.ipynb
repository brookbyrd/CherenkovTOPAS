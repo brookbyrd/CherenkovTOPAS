{
 "cells": [
  {
   "cell_type": "code",
   "execution_count": 9,
   "metadata": {},
   "outputs": [],
   "source": [
    "# Define the file paths for the .header and .phsp files\n",
    "header_file_path = 'phasespace_mybox.header'\n",
    "phsp_file_path = 'phasespace_mybox.phsp'\n",
    "\n",
    "# Initialize empty lists to store column names and data\n",
    "column_names = []\n",
    "column_data = [[] for _ in range(10)]\n",
    "\n",
    "# Read the .header file to get column names\n",
    "with open(header_file_path, 'r') as header_file:\n",
    "    lines = header_file.readlines()\n",
    "    reading_columns = False\n",
    "    for line in lines:\n",
    "        if \"Columns of data are as follows:\" in line:\n",
    "            reading_columns = True\n",
    "        elif reading_columns and ':' in line:\n",
    "            column_info = line.split(\":\")\n",
    "            if len(column_info) == 2:\n",
    "                column_name = column_info[1].strip()  # Extract the column name\n",
    "                column_names.append(column_name)\n",
    "\n",
    "# Read the .phsp file to get column data\n",
    "with open(phsp_file_path, 'r') as phsp_file:\n",
    "    lines = phsp_file.readlines()\n",
    "    for line in lines:\n",
    "        # Split the line into values\n",
    "        values = line.split()\n",
    "        if len(values) >= 10:\n",
    "            for i in range(10):\n",
    "                column_data[i].append(float(values[i]))  # Assuming values are floating-point numbers\n",
    "\n",
    "# Now you have the column names in 'column_names' and the column data in 'column_data'\n",
    "# You can access the data for each column using 'column_data[i]' where 'i' is the column index (0 to 9)\n",
    "\n",
    "# Transpose the column_data list\n",
    "column_data_transposed = list(zip(*column_data))"
   ]
  },
  {
   "cell_type": "code",
   "execution_count": 10,
   "metadata": {},
   "outputs": [
    {
     "name": "stdout",
     "output_type": "stream",
     "text": [
      "-9.10536\n"
     ]
    }
   ],
   "source": [
    "print(column_data_transposed[0][1])"
   ]
  }
 ],
 "metadata": {
  "kernelspec": {
   "display_name": "Python 3",
   "language": "python",
   "name": "python3"
  },
  "language_info": {
   "codemirror_mode": {
    "name": "ipython",
    "version": 3
   },
   "file_extension": ".py",
   "mimetype": "text/x-python",
   "name": "python",
   "nbconvert_exporter": "python",
   "pygments_lexer": "ipython3",
   "version": "3.11.7"
  }
 },
 "nbformat": 4,
 "nbformat_minor": 2
}
