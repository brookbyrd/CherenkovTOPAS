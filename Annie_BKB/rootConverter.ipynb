{
 "cells": [
  {
   "cell_type": "code",
   "execution_count": 15,
   "metadata": {},
   "outputs": [
    {
     "name": "stdout",
     "output_type": "stream",
     "text": [
      "[<TBranch 'Local_position_X__cm_' at 0x00011cb9b7d0>, <TBranch 'Local_position_Y__cm_' at 0x00011cb9a250>, <TBranch 'Local_position_Z__cm_' at 0x00011cb9aad0>, <TBranch 'Wavelength__nm_' at 0x00011cb6ed50>, <TBranch 'Arrival_time__ns_' at 0x00011cb6c4d0>, <TBranch 'ProcessID__1_Scintillation__2_Cerenkov__3_Absorption' at 0x00011cb87410>]\n"
     ]
    }
   ],
   "source": [
    "import uproot\n",
    "import numpy as np\n",
    "import matplotlib.pyplot as plt\n",
    "\n",
    "# Load the ROOT file\n",
    "root_file = uproot.open(\"topas.root\")\n",
    "\n",
    "# Access the scoring data\n",
    "scoring_data = root_file[\"chkvout_mybox\"]\n",
    "\n",
    "print([x for x in scoring_data])"
   ]
  },
  {
   "cell_type": "code",
   "execution_count": 24,
   "metadata": {},
   "outputs": [],
   "source": [
    "b1 = scoring_data.branches[0]\n"
   ]
  },
  {
   "cell_type": "code",
   "execution_count": 37,
   "metadata": {},
   "outputs": [
    {
     "name": "stdout",
     "output_type": "stream",
     "text": [
      " 20 20 20 20 20 20 20 20 20 20 20 20 20 20 20 20 20 20 20 20 20 20 20 20 20 20 20 20 20 20 20 20 20 20 20 20 20 20 20 20 20 20 20 20 20 20 20 20 20 20 20 20 20 20 20 20 20 20 20 20\n"
     ]
    }
   ],
   "source": [
    "\n",
    "double_list = [20] * 60\n",
    "\n",
    "\n",
    "a= ''\n",
    "for i in double_list:\n",
    "    a = a + ' ' + str(i)\n",
    "\n",
    "print(a)"
   ]
  },
  {
   "cell_type": "code",
   "execution_count": 29,
   "metadata": {},
   "outputs": [
    {
     "name": "stdout",
     "output_type": "stream",
     "text": [
      "Available trees in the ROOT file: ['chkvout_mybox;1']\n",
      "Available branches in the chosen tree: ['Local_position_X__cm_', 'Local_position_Y__cm_', 'Local_position_Z__cm_', 'Wavelength__nm_', 'Arrival_time__ns_', 'ProcessID__1_Scintillation__2_Cerenkov__3_Absorption']\n",
      "First few entries from the branch:\n",
      "[]\n"
     ]
    }
   ],
   "source": [
    "import uproot\n",
    "\n",
    "# Open the TOPAS-generated ROOT file\n",
    "root_file = uproot.open(\"topas.root\")\n",
    "\n",
    "# List all the available trees in the file\n",
    "tree_names = root_file.keys()\n",
    "print(\"Available trees in the ROOT file:\", tree_names)\n",
    "\n",
    "# Choose the tree you want to work with (replace 'your_tree_name' with the actual tree name)\n",
    "tree_name = \"chkvout_mybox\"\n",
    "tree = root_file[tree_name]\n",
    "\n",
    "# List all the branches in the chosen tree\n",
    "branch_names = tree.keys()\n",
    "print(\"Available branches in the chosen tree:\", branch_names)\n",
    "\n",
    "# Access and read data from a specific branch (replace 'your_branch_name' with the actual branch name)\n",
    "branch_name = \"Local_position_X__cm_\"\n",
    "branch = tree[branch_name]\n",
    "\n",
    "# Get the data as a NumPy array\n",
    "data = branch.array()\n",
    "\n",
    "# Print the first few entries from the branch\n",
    "print(\"First few entries from the branch:\")\n",
    "print(data[:10])  # Adjust the slice as needed to display the desired number of entries\n"
   ]
  },
  {
   "cell_type": "code",
   "execution_count": null,
   "metadata": {},
   "outputs": [],
   "source": [
    "\n",
    "# Extract relevant variables (e.g., x, y, energy, photon counts)\n",
    "x = scoring_data.array(\"x\")\n",
    "y = scoring_data.array(\"y\")\n",
    "energy = scoring_data.array(\"energy\")\n",
    "counts = scoring_data.array(\"counts\")\n",
    "\n",
    "# Create a 2D histogram\n",
    "hist, xedges, yedges = np.histogram2d(x, y, bins=(100, 100), weights=counts)\n",
    "\n",
    "# Create an image of the scoring plane\n",
    "plt.imshow(hist.T, extent=(xedges[0], xedges[-1], yedges[0], yedges[-1]), origin='lower', cmap='jet')\n",
    "plt.colorbar(label='Photon Counts')\n",
    "plt.xlabel('X Position (cm)')\n",
    "plt.ylabel('Y Position (cm)')\n",
    "plt.title('Scoring Plane Photon Accumulations')\n",
    "plt.show()\n"
   ]
  }
 ],
 "metadata": {
  "kernelspec": {
   "display_name": "Python 3",
   "language": "python",
   "name": "python3"
  },
  "language_info": {
   "codemirror_mode": {
    "name": "ipython",
    "version": 3
   },
   "file_extension": ".py",
   "mimetype": "text/x-python",
   "name": "python",
   "nbconvert_exporter": "python",
   "pygments_lexer": "ipython3",
   "version": "3.11.7"
  }
 },
 "nbformat": 4,
 "nbformat_minor": 2
}
